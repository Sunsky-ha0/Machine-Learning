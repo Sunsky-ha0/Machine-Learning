{
 "cells": [
  {
   "cell_type": "code",
   "execution_count": 29,
   "id": "ecf37553",
   "metadata": {},
   "outputs": [],
   "source": [
    "from sklearn.model_selection import train_test_split\n",
    "from sklearn.preprocessing import StandardScaler\n",
    "import matplotlib.pyplot as plt\n",
    "import pandas as pd\n",
    "import numpy as np\n",
    "df = pd.read_csv('wine.data',header = None)\n",
    "X = df.iloc[:,1:].values\n",
    "y = df.iloc[:,0].values\n",
    "X_train,X_test,y_train,y_test = train_test_split(X, y, test_size=0.3, random_state=0, stratify=y,)\n",
    "sc = StandardScaler()\n",
    "X_train_std = sc.fit_transform(X_train)\n",
    "X_test_std = sc.transform(X_test)"
   ]
  },
  {
   "cell_type": "markdown",
   "id": "2db5cbfb",
   "metadata": {},
   "source": [
    "# Calculate scatter matrix"
   ]
  },
  {
   "cell_type": "code",
   "execution_count": 140,
   "id": "6ced4734",
   "metadata": {},
   "outputs": [],
   "source": [
    "#First calculate mean vector: mean_vector_i(1*13)\n",
    "mean_vectors = []\n",
    "for i in np.unique(y_train):\n",
    "    X_train_i = X_train_std[y_train == i,:]\n",
    "    mean_vector_i = X_train_i.mean(axis = 0)\n",
    "    mean_vectors.append(mean_vector_i)\n",
    "mean_vectors = np.array(mean_vectors)"
   ]
  },
  {
   "cell_type": "code",
   "execution_count": 141,
   "id": "d3447c05",
   "metadata": {},
   "outputs": [],
   "source": [
    "#Second calculate within-class scatter matrix: S_within\n",
    "# np.set_printoptions(precision=4)\n",
    "S_within = np.zeros((X.shape[1],X.shape[1]))\n",
    "# S_between = sigma1 + sigma2 + sigma3\n",
    "for i in np.unique(y_train):\n",
    "    X_train_i = X_train_std[y_train == i,:]\n",
    "    S_within += np.cov(X_train_i.T)"
   ]
  },
  {
   "cell_type": "code",
   "execution_count": 142,
   "id": "da4c3f78",
   "metadata": {},
   "outputs": [],
   "source": [
    "#Third calculate between-class scatter matrix: S_between\n",
    "S_between = np.zeros((X.shape[1],X.shape[1]))\n",
    "mean_overall_vector = X_train_std.mean(axis = 0)\n",
    "for i,mean_vector in enumerate(mean_vectors):\n",
    "    n_i = X_train_std[y_train == i + 1,:].shape[0]\n",
    "    mean_vector = mean_vector.reshape(X.shape[1],1)\n",
    "    mean_overall_vector = mean_overall_vector.reshape(X.shape[1],1)\n",
    "    S_between += n_i*(mean_vector - mean_overall_vector).dot(( mean_vector - mean_overall_vector).T)"
   ]
  },
  {
   "cell_type": "code",
   "execution_count": 150,
   "id": "3a857191",
   "metadata": {},
   "outputs": [
    {
     "name": "stdout",
     "output_type": "stream",
     "text": [
      "349.61780890599397\n",
      "172.76152218979385\n",
      "3.2209587419662555e-14\n",
      "3.2209587419662555e-14\n",
      "2.6106523402387364e-14\n",
      "1.7038977764581827e-14\n",
      "1.7038977764581827e-14\n",
      "1.687554433463065e-14\n",
      "1.687554433463065e-14\n",
      "7.584950171788759e-15\n",
      "2.9412105155181146e-15\n",
      "2.9412105155181146e-15\n",
      "0.0\n"
     ]
    }
   ],
   "source": [
    "#Then sovle the eigenvalue \n",
    "eigen_vals ,eigen_vecs = np.linalg.eig(np.linalg.inv(S_within).dot(S_between))\n",
    "eigen_pairs = [(np.abs(eigen_vals[i]), eigen_vecs[:, i]) for i in range(len(eigen_vals))]\n",
    "eigen_pairs = sorted(eigen_pairs, key = lambda k: k[0], reverse = True)\n",
    "for i in eigen_pairs:\n",
    "    print(i[0])"
   ]
  },
  {
   "cell_type": "code",
   "execution_count": 154,
   "id": "7311db04",
   "metadata": {},
   "outputs": [
    {
     "data": {
      "image/png": "[encoded data removed]",
      "text/plain": [
       "<Figure size 600x400 with 1 Axes>"
      ]
     },
     "metadata": {
      "needs_background": "light"
     },
     "output_type": "display_data"
    }
   ],
   "source": [
    "al = np.abs(sum(eigen_vals))\n",
    "eigen_vals_percent = [np.abs(i)/al for i in sorted(eigen_vals, reverse = True)]\n",
    "eigen_vals_cumsum = np.cumsum(eigen_vals_percent)\n",
    "plt.figure(figsize=(6,4),dpi = 100)\n",
    "plt.bar(range(1,len(eigen_vals)+1),eigen_vals_percent ,alpha = 0.8,align = 'center')\n",
    "plt.step(range(1,len(eigen_vals)+1),eigen_vals_cumsum,where = 'mid',color = 'red')\n",
    "plt.show()"
   ]
  },
  {
   "cell_type": "code",
   "execution_count": null,
   "id": "47ff67ad",
   "metadata": {},
   "outputs": [],
   "source": []
  }
 ],
 "metadata": {
  "kernelspec": {
   "display_name": "Python 3",
   "language": "python",
   "name": "python3"
  },
  "language_info": {
   "codemirror_mode": {
    "name": "ipython",
    "version": 3
   },
   "file_extension": ".py",
   "mimetype": "text/x-python",
   "name": "python",
   "nbconvert_exporter": "python",
   "pygments_lexer": "ipython3",
   "version": "3.8.8"
  }
 },
 "nbformat": 4,
 "nbformat_minor": 5
}
